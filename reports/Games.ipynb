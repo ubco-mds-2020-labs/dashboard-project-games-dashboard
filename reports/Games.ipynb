{
 "cells": [
  {
   "cell_type": "markdown",
   "metadata": {},
   "source": [
    "### Video Games Dataset: EDA\n",
    "#### 1. Describe Dataset\n",
    "- **Who:** The data was acquired from Kaggle and supplied by the user Gregory Smith (https://www.kaggle.com/gregorut/videogamesales). The data was scraped from www.vgchartz.com. \n",
    "- **What:** The dataset contains a list of video games with sales greater than 100,000 from 1980 to 2020. It contains information such as the platform the game was made available, year of release, genre, publisher, sales in NA, sales in JP, sales in EU, sales in the rest of the world and global sales (total). The data set also includes the rank of games in terms of overall sales. **NOTE: Sales are in millions**\n",
    "- **When:** The data set was last updated 4 years ago but contains games released from 1980 to seemingly 2020. \n",
    "- **Why:** The video game industry is a very competitive yet profitable industry. While big companies with large amounts of resources have an edge over smaller companies, we have recently seen many small companies finding huge success. Not only in game creation but in the case of streamers for example, playing a game before it becomes mainstream might give you an edge against bigger name streamers. With this data set, we are able to gain insight into general idea such as performance of companies, most popular titles and genres. We are also able to dive deeper and look at changing genre popularities over time, regional preference in game genres/platforms, upcoming developer etc.  \n",
    "- **How:** The data set was scraped from the www.vgzchartz.com website using BeautifulSoup. The scraping script can be found here (https://github.com/GregorUT/vgchartzScrape)"
   ]
  },
  {
   "cell_type": "markdown",
   "metadata": {},
   "source": [
    "#### 2. Load Dataset"
   ]
  },
  {
   "cell_type": "code",
   "execution_count": 1,
   "metadata": {},
   "outputs": [
    {
     "output_type": "execute_result",
     "data": {
      "text/plain": [
       "DataTransformerRegistry.enable('data_server')"
      ]
     },
     "metadata": {},
     "execution_count": 1
    }
   ],
   "source": [
    "import pandas as pd\n",
    "import numpy as np\n",
    "import altair as alt\n",
    "from altair_saver import save\n",
    "alt.renderers.enable('mimetype')\n",
    "alt.data_transformers.enable('data_server')"
   ]
  },
  {
   "cell_type": "code",
   "execution_count": 2,
   "metadata": {},
   "outputs": [],
   "source": [
    "game = pd.read_csv(\"vgsales.csv\")"
   ]
  },
  {
   "cell_type": "markdown",
   "metadata": {},
   "source": [
    "#### 3. Explore Dataset"
   ]
  },
  {
   "cell_type": "code",
   "execution_count": 3,
   "metadata": {},
   "outputs": [
    {
     "output_type": "stream",
     "name": "stdout",
     "text": [
      "<class 'pandas.core.frame.DataFrame'>\nRangeIndex: 16598 entries, 0 to 16597\nData columns (total 11 columns):\n #   Column        Non-Null Count  Dtype  \n---  ------        --------------  -----  \n 0   Rank          16598 non-null  int64  \n 1   Name          16598 non-null  object \n 2   Platform      16598 non-null  object \n 3   Year          16327 non-null  float64\n 4   Genre         16598 non-null  object \n 5   Publisher     16540 non-null  object \n 6   NA_Sales      16598 non-null  float64\n 7   EU_Sales      16598 non-null  float64\n 8   JP_Sales      16598 non-null  float64\n 9   Other_Sales   16598 non-null  float64\n 10  Global_Sales  16598 non-null  float64\ndtypes: float64(6), int64(1), object(4)\nmemory usage: 1.4+ MB\n\nPlatform:\n ['Wii' 'NES' 'GB' 'DS' 'X360' 'PS3' 'PS2' 'SNES' 'GBA' '3DS' 'PS4' 'N64'\n 'PS' 'XB' 'PC' '2600' 'PSP' 'XOne' 'GC' 'WiiU' 'GEN' 'DC' 'PSV' 'SAT'\n 'SCD' 'WS' 'NG' 'TG16' '3DO' 'GG' 'PCFX'] \nCount:  31\n\nYear\n [2006. 1985. 2008. 2009. 1996. 1989. 1984. 2005. 1999. 2007. 2010. 2013.\n 2004. 1990. 1988. 2002. 2001. 2011. 1998. 2015. 2012. 2014. 1992. 1997.\n 1993. 1994. 1982. 2003. 1986. 2000.   nan 1995. 2016. 1991. 1981. 1987.\n 1980. 1983. 2020. 2017.] \nCount:  39\n\nGenre\n ['Sports' 'Platform' 'Racing' 'Role-Playing' 'Puzzle' 'Misc' 'Shooter'\n 'Simulation' 'Action' 'Fighting' 'Adventure' 'Strategy'] \nCount:  12\n\nPublishers\n ['Nintendo' 'Microsoft Game Studios' 'Take-Two Interactive'\n 'Sony Computer Entertainment' 'Activision' 'Ubisoft' 'Bethesda Softworks'\n 'Electronic Arts' 'Sega' 'SquareSoft' 'Atari' '505 Games' 'Capcom'\n 'GT Interactive' 'Konami Digital Entertainment'] \nCount:  578\n   Rank               Name Platform    Year     Genre Publisher\n0     1         Wii Sports      Wii  2006.0    Sports  Nintendo\n1     2  Super Mario Bros.      NES  1985.0  Platform  Nintendo\n9    10          Duck Hunt      NES  1984.0   Shooter  Nintendo\n5     6             Tetris       GB  1989.0    Puzzle  Nintendo\n2     3     Mario Kart Wii      Wii  2008.0    Racing  Nintendo\n    Rank                Name Platform    Year       Genre  \\\n0      1          Wii Sports      Wii  2006.0      Sports   \n2      3      Mario Kart Wii      Wii  2008.0      Racing   \n3      4   Wii Sports Resort      Wii  2009.0      Sports   \n10    11          Nintendogs       DS  2005.0  Simulation   \n16    17  Grand Theft Auto V      PS3  2013.0      Action   \n\n               Publisher  \n0               Nintendo  \n2               Nintendo  \n3               Nintendo  \n10              Nintendo  \n16  Take-Two Interactive  \n    Rank                           Name Platform    Year         Genre  \\\n4      5       Pokemon Red/Pokemon Blue       GB  1996.0  Role-Playing   \n12    13    Pokemon Gold/Pokemon Silver       GB  1999.0  Role-Playing   \n1      2              Super Mario Bros.      NES  1985.0      Platform   \n6      7          New Super Mario Bros.       DS  2006.0      Platform   \n20    21  Pokemon Diamond/Pokemon Pearl       DS  2006.0  Role-Playing   \n\n   Publisher  \n4   Nintendo  \n12  Nintendo  \n1   Nintendo  \n6   Nintendo  \n20  Nintendo  \n   Rank                      Name Platform    Year         Genre Publisher\n0     1                Wii Sports      Wii  2006.0        Sports  Nintendo\n1     2         Super Mario Bros.      NES  1985.0      Platform  Nintendo\n2     3            Mario Kart Wii      Wii  2008.0        Racing  Nintendo\n3     4         Wii Sports Resort      Wii  2009.0        Sports  Nintendo\n4     5  Pokemon Red/Pokemon Blue       GB  1996.0  Role-Playing  Nintendo\nYear\n1980.0       9\n1981.0      46\n1982.0      36\n1983.0      17\n1984.0      14\n1985.0      14\n1986.0      21\n1987.0      16\n1988.0      15\n1989.0      17\n1990.0      16\n1991.0      41\n1992.0      43\n1993.0      60\n1994.0     121\n1995.0     219\n1996.0     263\n1997.0     289\n1998.0     379\n1999.0     338\n2000.0     349\n2001.0     482\n2002.0     829\n2003.0     775\n2004.0     763\n2005.0     941\n2006.0    1008\n2007.0    1202\n2008.0    1428\n2009.0    1431\n2010.0    1259\n2011.0    1139\n2012.0     657\n2013.0     546\n2014.0     582\n2015.0     614\n2016.0     344\n2017.0       3\n2020.0       1\ndtype: int64\nGenre\nAction          3316\nAdventure       1286\nFighting         848\nMisc            1739\nPlatform         886\nPuzzle           582\nRacing          1249\nRole-Playing    1488\nShooter         1310\nSimulation       867\nSports          2346\nStrategy         681\ndtype: int64\nPlatform\n2600     133\n3DO        3\n3DS      509\nDC        52\nDS      2163\nGB        98\nGBA      822\nGC       556\nGEN       27\nGG         1\nN64      319\nNES       98\nNG        12\nPC       960\nPCFX       1\nPS      1196\nPS2     2161\nPS3     1329\nPS4      336\nPSP     1213\nPSV      413\nSAT      173\nSCD        6\nSNES     239\nTG16       2\nWS         6\nWii     1325\nWiiU     143\nX360    1265\nXB       824\nXOne     213\ndtype: int64\n"
     ]
    },
    {
     "output_type": "execute_result",
     "data": {
      "text/plain": [
       "                                                    Name Platform\n",
       "4499                              007: Quantum of Solace      PS2\n",
       "9318                              007: Quantum of Solace       DS\n",
       "1273                              007: Quantum of Solace     X360\n",
       "14547                             007: Quantum of Solace       PC\n",
       "3038                              007: Quantum of Solace      Wii\n",
       "1739                              007: Quantum of Solace      PS3\n",
       "2247                        007: The World is not Enough       PS\n",
       "1200                        007: The World is not Enough      N64\n",
       "15552                                  11eyes: CrossOver      PSP\n",
       "15005                                  11eyes: CrossOver     X360\n",
       "4830                    18 Wheeler: American Pro Trucker      PS2\n",
       "10075                   18 Wheeler: American Pro Trucker       GC\n",
       "8894                                    187: Ride or Die      PS2\n",
       "12253                                   187: Ride or Die       XB\n",
       "3770   2 in 1 Combo Pack: Sonic Heroes / Super Monkey...       XB"
      ],
      "text/html": "<div>\n<style scoped>\n    .dataframe tbody tr th:only-of-type {\n        vertical-align: middle;\n    }\n\n    .dataframe tbody tr th {\n        vertical-align: top;\n    }\n\n    .dataframe thead th {\n        text-align: right;\n    }\n</style>\n<table border=\"1\" class=\"dataframe\">\n  <thead>\n    <tr style=\"text-align: right;\">\n      <th></th>\n      <th>Name</th>\n      <th>Platform</th>\n    </tr>\n  </thead>\n  <tbody>\n    <tr>\n      <th>4499</th>\n      <td>007: Quantum of Solace</td>\n      <td>PS2</td>\n    </tr>\n    <tr>\n      <th>9318</th>\n      <td>007: Quantum of Solace</td>\n      <td>DS</td>\n    </tr>\n    <tr>\n      <th>1273</th>\n      <td>007: Quantum of Solace</td>\n      <td>X360</td>\n    </tr>\n    <tr>\n      <th>14547</th>\n      <td>007: Quantum of Solace</td>\n      <td>PC</td>\n    </tr>\n    <tr>\n      <th>3038</th>\n      <td>007: Quantum of Solace</td>\n      <td>Wii</td>\n    </tr>\n    <tr>\n      <th>1739</th>\n      <td>007: Quantum of Solace</td>\n      <td>PS3</td>\n    </tr>\n    <tr>\n      <th>2247</th>\n      <td>007: The World is not Enough</td>\n      <td>PS</td>\n    </tr>\n    <tr>\n      <th>1200</th>\n      <td>007: The World is not Enough</td>\n      <td>N64</td>\n    </tr>\n    <tr>\n      <th>15552</th>\n      <td>11eyes: CrossOver</td>\n      <td>PSP</td>\n    </tr>\n    <tr>\n      <th>15005</th>\n      <td>11eyes: CrossOver</td>\n      <td>X360</td>\n    </tr>\n    <tr>\n      <th>4830</th>\n      <td>18 Wheeler: American Pro Trucker</td>\n      <td>PS2</td>\n    </tr>\n    <tr>\n      <th>10075</th>\n      <td>18 Wheeler: American Pro Trucker</td>\n      <td>GC</td>\n    </tr>\n    <tr>\n      <th>8894</th>\n      <td>187: Ride or Die</td>\n      <td>PS2</td>\n    </tr>\n    <tr>\n      <th>12253</th>\n      <td>187: Ride or Die</td>\n      <td>XB</td>\n    </tr>\n    <tr>\n      <th>3770</th>\n      <td>2 in 1 Combo Pack: Sonic Heroes / Super Monkey...</td>\n      <td>XB</td>\n    </tr>\n  </tbody>\n</table>\n</div>"
     },
     "metadata": {},
     "execution_count": 3
    }
   ],
   "source": [
    "game.info()\n",
    "\n",
    "print(\"\\nPlatform:\\n\",game.Platform.unique(),\"\\nCount: \",game.Platform.nunique())\n",
    "print(\"\\nYear\\n\",game.Year.unique(),\"\\nCount: \",game.Year.nunique())\n",
    "print(\"\\nGenre\\n\",game.Genre.unique(),\"\\nCount: \",game.Genre.nunique())\n",
    "print(\"\\nPublishers\\n\",game.Publisher.unique()[0:15],\"\\nCount: \",game.Publisher.nunique())\n",
    "\n",
    "print(game.sort_values(\"NA_Sales\",ascending=False).head(5).iloc[:,0:6])\n",
    "print(game.sort_values(\"EU_Sales\",ascending=False).head(5).iloc[:,0:6])\n",
    "print(game.sort_values(\"JP_Sales\",ascending=False).head(5).iloc[:,0:6])\n",
    "print(game.sort_values(\"Global_Sales\",ascending=False).head(5).iloc[:,0:6])\n",
    "\n",
    "print(game.groupby(\"Year\").size())\n",
    "print(game.groupby(\"Genre\").size())\n",
    "print(game.groupby(\"Platform\").size())\n",
    "\n",
    "nulls = game[game.isna().any(axis=1)] #List of games with nulls in any field \n",
    "game.sort_values(\"Name\").loc[game.Name.isin(game.Name[game.Name.duplicated()]),[\"Name\",\"Platform\"]].head(15) #Game titles that show up on multiple platforms "
   ]
  },
  {
   "cell_type": "markdown",
   "metadata": {},
   "source": [
    "#### 4. Initial thoughts?\n",
    "- We have null values in Year and Publisher (Total of 307 rows with NaN values)\n",
    "- Year is a float, we could probably turn it into an int to make it prettier\n",
    "- We have 31 unique Platforms\n",
    "- We have 39 unique years (one being NaN)\n",
    "- We have 12 unique genres\n",
    "- We have 578 unique publishers\n",
    "- Looking at the top games in each region EU and NA are more similar in taste than JP\n",
    "    -JP loves their Pokemon\n",
    "    -Nintendo is the dominating Publisher in all regions \n",
    "- Years with the most releases are 2006 to 2011 with a peak of 1431 releases in 2009."
   ]
  },
  {
   "cell_type": "markdown",
   "metadata": {},
   "source": [
    "#### 5. Wrangling\n",
    "The main concern would be the NaN values. I feel the data is still valuable, we can remove/deal with those values on a need basis."
   ]
  },
  {
   "cell_type": "code",
   "execution_count": 30,
   "metadata": {},
   "outputs": [
    {
     "output_type": "execute_result",
     "data": {
      "text/plain": [
       "        Rank                                              Name Platform  Year  \\\n",
       "0          1                                        Wii Sports      Wii  2006   \n",
       "1          2                                 Super Mario Bros.      NES  1985   \n",
       "2          3                                    Mario Kart Wii      Wii  2008   \n",
       "3          4                                 Wii Sports Resort      Wii  2009   \n",
       "4          5                          Pokemon Red/Pokemon Blue       GB  1996   \n",
       "...      ...                                               ...      ...   ...   \n",
       "16593  16596                Woody Woodpecker in Crazy Castle 5      GBA  2002   \n",
       "16594  16597                     Men in Black II: Alien Escape       GC  2003   \n",
       "16595  16598  SCORE International Baja 1000: The Official Game      PS2  2008   \n",
       "16596  16599                                        Know How 2       DS  2010   \n",
       "16597  16600                                  Spirits & Spells      GBA  2003   \n",
       "\n",
       "              Genre   Publisher  NA_Sales  EU_Sales  JP_Sales  Other_Sales  \\\n",
       "0            Sports    Nintendo     41.49     29.02      3.77         8.46   \n",
       "1          Platform    Nintendo     29.08      3.58      6.81         0.77   \n",
       "2            Racing    Nintendo     15.85     12.88      3.79         3.31   \n",
       "3            Sports    Nintendo     15.75     11.01      3.28         2.96   \n",
       "4      Role-Playing    Nintendo     11.27      8.89     10.22         1.00   \n",
       "...             ...         ...       ...       ...       ...          ...   \n",
       "16593      Platform       Kemco      0.01      0.00      0.00         0.00   \n",
       "16594       Shooter  Infogrames      0.01      0.00      0.00         0.00   \n",
       "16595        Racing  Activision      0.00      0.00      0.00         0.00   \n",
       "16596        Puzzle    7G//AMES      0.00      0.01      0.00         0.00   \n",
       "16597      Platform     Wanadoo      0.01      0.00      0.00         0.00   \n",
       "\n",
       "       Global_Sales  \n",
       "0             82.74  \n",
       "1             40.24  \n",
       "2             35.82  \n",
       "3             33.00  \n",
       "4             31.37  \n",
       "...             ...  \n",
       "16593          0.01  \n",
       "16594          0.01  \n",
       "16595          0.01  \n",
       "16596          0.01  \n",
       "16597          0.01  \n",
       "\n",
       "[16598 rows x 11 columns]"
      ],
      "text/html": "<div>\n<style scoped>\n    .dataframe tbody tr th:only-of-type {\n        vertical-align: middle;\n    }\n\n    .dataframe tbody tr th {\n        vertical-align: top;\n    }\n\n    .dataframe thead th {\n        text-align: right;\n    }\n</style>\n<table border=\"1\" class=\"dataframe\">\n  <thead>\n    <tr style=\"text-align: right;\">\n      <th></th>\n      <th>Rank</th>\n      <th>Name</th>\n      <th>Platform</th>\n      <th>Year</th>\n      <th>Genre</th>\n      <th>Publisher</th>\n      <th>NA_Sales</th>\n      <th>EU_Sales</th>\n      <th>JP_Sales</th>\n      <th>Other_Sales</th>\n      <th>Global_Sales</th>\n    </tr>\n  </thead>\n  <tbody>\n    <tr>\n      <th>0</th>\n      <td>1</td>\n      <td>Wii Sports</td>\n      <td>Wii</td>\n      <td>2006</td>\n      <td>Sports</td>\n      <td>Nintendo</td>\n      <td>41.49</td>\n      <td>29.02</td>\n      <td>3.77</td>\n      <td>8.46</td>\n      <td>82.74</td>\n    </tr>\n    <tr>\n      <th>1</th>\n      <td>2</td>\n      <td>Super Mario Bros.</td>\n      <td>NES</td>\n      <td>1985</td>\n      <td>Platform</td>\n      <td>Nintendo</td>\n      <td>29.08</td>\n      <td>3.58</td>\n      <td>6.81</td>\n      <td>0.77</td>\n      <td>40.24</td>\n    </tr>\n    <tr>\n      <th>2</th>\n      <td>3</td>\n      <td>Mario Kart Wii</td>\n      <td>Wii</td>\n      <td>2008</td>\n      <td>Racing</td>\n      <td>Nintendo</td>\n      <td>15.85</td>\n      <td>12.88</td>\n      <td>3.79</td>\n      <td>3.31</td>\n      <td>35.82</td>\n    </tr>\n    <tr>\n      <th>3</th>\n      <td>4</td>\n      <td>Wii Sports Resort</td>\n      <td>Wii</td>\n      <td>2009</td>\n      <td>Sports</td>\n      <td>Nintendo</td>\n      <td>15.75</td>\n      <td>11.01</td>\n      <td>3.28</td>\n      <td>2.96</td>\n      <td>33.00</td>\n    </tr>\n    <tr>\n      <th>4</th>\n      <td>5</td>\n      <td>Pokemon Red/Pokemon Blue</td>\n      <td>GB</td>\n      <td>1996</td>\n      <td>Role-Playing</td>\n      <td>Nintendo</td>\n      <td>11.27</td>\n      <td>8.89</td>\n      <td>10.22</td>\n      <td>1.00</td>\n      <td>31.37</td>\n    </tr>\n    <tr>\n      <th>...</th>\n      <td>...</td>\n      <td>...</td>\n      <td>...</td>\n      <td>...</td>\n      <td>...</td>\n      <td>...</td>\n      <td>...</td>\n      <td>...</td>\n      <td>...</td>\n      <td>...</td>\n      <td>...</td>\n    </tr>\n    <tr>\n      <th>16593</th>\n      <td>16596</td>\n      <td>Woody Woodpecker in Crazy Castle 5</td>\n      <td>GBA</td>\n      <td>2002</td>\n      <td>Platform</td>\n      <td>Kemco</td>\n      <td>0.01</td>\n      <td>0.00</td>\n      <td>0.00</td>\n      <td>0.00</td>\n      <td>0.01</td>\n    </tr>\n    <tr>\n      <th>16594</th>\n      <td>16597</td>\n      <td>Men in Black II: Alien Escape</td>\n      <td>GC</td>\n      <td>2003</td>\n      <td>Shooter</td>\n      <td>Infogrames</td>\n      <td>0.01</td>\n      <td>0.00</td>\n      <td>0.00</td>\n      <td>0.00</td>\n      <td>0.01</td>\n    </tr>\n    <tr>\n      <th>16595</th>\n      <td>16598</td>\n      <td>SCORE International Baja 1000: The Official Game</td>\n      <td>PS2</td>\n      <td>2008</td>\n      <td>Racing</td>\n      <td>Activision</td>\n      <td>0.00</td>\n      <td>0.00</td>\n      <td>0.00</td>\n      <td>0.00</td>\n      <td>0.01</td>\n    </tr>\n    <tr>\n      <th>16596</th>\n      <td>16599</td>\n      <td>Know How 2</td>\n      <td>DS</td>\n      <td>2010</td>\n      <td>Puzzle</td>\n      <td>7G//AMES</td>\n      <td>0.00</td>\n      <td>0.01</td>\n      <td>0.00</td>\n      <td>0.00</td>\n      <td>0.01</td>\n    </tr>\n    <tr>\n      <th>16597</th>\n      <td>16600</td>\n      <td>Spirits &amp; Spells</td>\n      <td>GBA</td>\n      <td>2003</td>\n      <td>Platform</td>\n      <td>Wanadoo</td>\n      <td>0.01</td>\n      <td>0.00</td>\n      <td>0.00</td>\n      <td>0.00</td>\n      <td>0.01</td>\n    </tr>\n  </tbody>\n</table>\n<p>16598 rows × 11 columns</p>\n</div>"
     },
     "metadata": {},
     "execution_count": 30
    }
   ],
   "source": [
    "game_melt"
   ]
  },
  {
   "cell_type": "code",
   "execution_count": 4,
   "metadata": {},
   "outputs": [
    {
     "output_type": "stream",
     "name": "stdout",
     "text": [
      "Year\n2004.0    19\n2005.0     5\n2007.0     1\n2010.0     2\n2011.0     3\n2012.0     2\n2014.0     2\n2016.0     2\ndtype: int64\nGenre\nAction          65\nAdventure       12\nFighting        12\nMisc            53\nPlatform        11\nPuzzle          12\nRacing          24\nRole-Playing    18\nShooter         28\nSimulation      19\nSports          42\nStrategy        11\ndtype: int64\nPlatform\n2600    17\n3DS     10\nDS      32\nGB       1\nGBA     36\nGC      14\nN64      3\nPC      22\nPS       7\nPS2     34\nPS3     25\nPSP     16\nPSV      3\nWii     35\nX360    31\nXB      21\ndtype: int64\n"
     ]
    }
   ],
   "source": [
    "game.Year = game.Year.astype(\"Int64\")\n",
    "print(nulls.groupby(\"Year\").size())\n",
    "print(nulls.groupby(\"Genre\").size())\n",
    "print(nulls.groupby(\"Platform\").size())\n",
    "\n",
    "\n",
    "#For the analysis of sales - melting the NA,EU,JP,Other and Total columns\n",
    "game_melt = game.melt(id_vars=[\"Rank\", \"Name\",\"Platform\",\"Year\",\"Genre\",\"Publisher\"], \n",
    "        var_name=\"Region\", \n",
    "        value_name=\"Sales\").reset_index(drop=True)"
   ]
  },
  {
   "cell_type": "markdown",
   "metadata": {},
   "source": [
    "#### 6. Research Questions/Visualization+Analysis"
   ]
  },
  {
   "cell_type": "code",
   "execution_count": 57,
   "metadata": {},
   "outputs": [
    {
     "output_type": "error",
     "ename": "ValueError",
     "evalue": "The truth value of a Series is ambiguous. Use a.empty, a.bool(), a.item(), a.any() or a.all().",
     "traceback": [
      "\u001b[1;31m---------------------------------------------------------------------------\u001b[0m",
      "\u001b[1;31mValueError\u001b[0m                                Traceback (most recent call last)",
      "\u001b[1;32m<ipython-input-57-2524fcda851e>\u001b[0m in \u001b[0;36m<module>\u001b[1;34m\u001b[0m\n\u001b[0;32m     89\u001b[0m     text=\"Name\").properties(title=\"JP Sales\")\n\u001b[0;32m     90\u001b[0m \u001b[1;33m\u001b[0m\u001b[0m\n\u001b[1;32m---> 91\u001b[1;33m title_EU =alt.Chart(sales_data[sales_data.Region==\"EU_Sales\" and sales_data.Genre==\"Action\"]).mark_circle(size=50).encode(\n\u001b[0m\u001b[0;32m     92\u001b[0m     \u001b[0malt\u001b[0m\u001b[1;33m.\u001b[0m\u001b[0mX\u001b[0m\u001b[1;33m(\u001b[0m\u001b[1;34m\"Genre\"\u001b[0m\u001b[1;33m,\u001b[0m\u001b[0msort\u001b[0m\u001b[1;33m=\u001b[0m\u001b[0msorted_genre_EU\u001b[0m\u001b[1;33m,\u001b[0m\u001b[0mtitle\u001b[0m\u001b[1;33m=\u001b[0m\u001b[1;32mNone\u001b[0m\u001b[1;33m)\u001b[0m\u001b[1;33m,\u001b[0m\u001b[1;33m\u001b[0m\u001b[1;33m\u001b[0m\u001b[0m\n\u001b[0;32m     93\u001b[0m     \u001b[0malt\u001b[0m\u001b[1;33m.\u001b[0m\u001b[0mY\u001b[0m\u001b[1;33m(\u001b[0m\u001b[1;34m\"Sales:Q\"\u001b[0m\u001b[1;33m,\u001b[0m\u001b[0mstack\u001b[0m\u001b[1;33m=\u001b[0m\u001b[1;32mNone\u001b[0m\u001b[1;33m,\u001b[0m\u001b[0mtitle\u001b[0m\u001b[1;33m=\u001b[0m\u001b[1;32mNone\u001b[0m\u001b[1;33m)\u001b[0m\u001b[1;33m,\u001b[0m\u001b[1;33m\u001b[0m\u001b[1;33m\u001b[0m\u001b[0m\n",
      "\u001b[1;32mD:\\Anaconda\\lib\\site-packages\\pandas\\core\\generic.py\u001b[0m in \u001b[0;36m__nonzero__\u001b[1;34m(self)\u001b[0m\n\u001b[0;32m   1324\u001b[0m \u001b[1;33m\u001b[0m\u001b[0m\n\u001b[0;32m   1325\u001b[0m     \u001b[1;32mdef\u001b[0m \u001b[0m__nonzero__\u001b[0m\u001b[1;33m(\u001b[0m\u001b[0mself\u001b[0m\u001b[1;33m)\u001b[0m\u001b[1;33m:\u001b[0m\u001b[1;33m\u001b[0m\u001b[1;33m\u001b[0m\u001b[0m\n\u001b[1;32m-> 1326\u001b[1;33m         raise ValueError(\n\u001b[0m\u001b[0;32m   1327\u001b[0m             \u001b[1;34mf\"The truth value of a {type(self).__name__} is ambiguous. \"\u001b[0m\u001b[1;33m\u001b[0m\u001b[1;33m\u001b[0m\u001b[0m\n\u001b[0;32m   1328\u001b[0m             \u001b[1;34m\"Use a.empty, a.bool(), a.item(), a.any() or a.all().\"\u001b[0m\u001b[1;33m\u001b[0m\u001b[1;33m\u001b[0m\u001b[0m\n",
      "\u001b[1;31mValueError\u001b[0m: The truth value of a Series is ambiguous. Use a.empty, a.bool(), a.item(), a.any() or a.all()."
     ]
    }
   ],
   "source": [
    "#1) Basic Exploratory visualisations of things we noted in the Initial Thoughts\n",
    "#Counts of number of games in each genre, platform and number of games released in each year\n",
    "#Genre and Platform counts are coloured by number of counts and sorted from largest to smallest\n",
    "#Year counts are coloured by year and sorted from largest to smallest \n",
    "sorted_genre_count = list(game.groupby(\"Genre\").size().sort_values(ascending=False).index)\n",
    "sorted_year_count = list(game.groupby(\"Year\").size().sort_values(ascending=False).index)\n",
    "sorted_platform_count = list(game.groupby(\"Platform\").size().sort_values(ascending=False).index)\n",
    "\n",
    "genre_count = alt.Chart(game).mark_bar().encode(\n",
    "    alt.X(\"Genre\",type=\"nominal\",sort=sorted_genre_count),\n",
    "    alt.Y(\"count()\",title=\"Number of games\",type=\"quantitative\"),\n",
    "    alt.Color(\"count()\",scale=alt.Scale(scheme='category20b'),legend=None),\n",
    "    alt.Tooltip(\"count()\"))\n",
    "\n",
    "year_count = alt.Chart(game).mark_bar().encode(\n",
    "    alt.X(\"Year\",type=\"ordinal\",sort=sorted_year_count),\n",
    "    alt.Y(\"count()\",title=\"Number of games\",type=\"quantitative\"),\n",
    "    alt.Color(\"Year\",scale=alt.Scale(scheme='category20c')),\n",
    "    alt.Tooltip(\"count()\"))\n",
    "\n",
    "platform_count = alt.Chart(game).mark_bar().encode(\n",
    "    alt.X(\"Platform\",type=\"nominal\",sort=sorted_platform_count),\n",
    "    alt.Y(\"count()\",title=\"Number of games\",type=\"quantitative\"),\n",
    "    alt.Color(\"count()\",scale=alt.Scale(scheme='category20b'),legend=None),\n",
    "    alt.Tooltip(\"count()\"))\n",
    "\n",
    "count_plots = ((genre_count.properties(width=333)|platform_count.properties(width=666)).resolve_scale(color='independent')\n",
    "               &year_count.properties(width=1000)).resolve_scale(color='independent').configure_axis(\n",
    "                labelFontSize=12,\n",
    "                titleFontSize=13)\n",
    "count_plots = count_plots.properties(title={\"text\": \"Number of games released by Genre, Platform and Year\", \n",
    "      \"subtitle\": [\"Counts only include games that have sold more than 100,000 copies. Bars for the Genre and Platform plot are coloured by number of games.\",\"\"]}).configure_title(fontSize = 25,subtitleFontSize=15)\n",
    "\n",
    "#2) Lets look at sales across Genres for each Region\n",
    "#Genres are sorted by decreasing Global Sales (Action is most sales vs Strategy is least)\n",
    "#Notice we see Shooters - while having fewer games released, still sold a lot of copies meaning their titles seemed to do well and the same (to a larger extent) can be said about Platformers.\n",
    "#Looking at the means of each genre, we can see exacly as we noticed above with the mean number of sales in the Shooter/Platform genre now ahead of the rest. \n",
    "#It is also interesting to see the trend across genres. We see NA, EU and Other sale patters tend to be more similar while JP sale patterns are distinct from the other regions, with a large emphasis on RPG, Platformers. \n",
    "sales_data = game_melt.loc[game_melt.Region != \"Global_Sales\",:]\n",
    "sorted_genre_totalsales = list(game.groupby(\"Genre\").sum().sort_values(\"Global_Sales\",ascending=False).index)\n",
    "\n",
    "genre_sales = alt.Chart(sales_data).mark_bar(opacity=0.5).encode(\n",
    "    alt.X(\"Genre\",type=\"nominal\",sort=sorted_genre_totalsales),\n",
    "    alt.Y(\"sum(Sales)\",title=\"Total Number of Sales (in millions)\",type=\"quantitative\",stack=None),\n",
    "    alt.Color(\"Region\",scale=alt.Scale(scheme='set1'),type=\"nominal\"),\n",
    "    alt.Tooltip(\"Region\"))\n",
    "genre_sales = genre_sales+genre_sales.mark_circle()\n",
    "genre_mean_sales = alt.Chart(sales_data).mark_bar(opacity=0.5).encode(\n",
    "    alt.X(\"Genre\",type=\"nominal\",sort=sorted_genre_totalsales),\n",
    "    alt.Y(\"mean(Sales)\",title=\"Average Number of Sales (in millions)\",type=\"quantitative\",stack=None),\n",
    "    alt.Color(\"Region\",type=\"nominal\"),\n",
    "    alt.Tooltip(\"Region\"))\n",
    "\n",
    "genre_mean_sales = genre_mean_sales + genre_mean_sales.mark_circle()\n",
    "genre_plots = (genre_sales | genre_mean_sales).properties(title={\"text\":\"Comparing sales in each region by genre.\",\"subtitle\":[\"Bars and points represent number of sales in millions and coloured by Region.\",\"\"]}).configure_axis(\n",
    "                labelFontSize=12,\n",
    "                titleFontSize=13).configure_title(fontSize = 25,subtitleFontSize=15) \n",
    "\n",
    "#3) Lets investigate what's going on in each region. We can do so by looking at individual title by region and color the points by genre. Scatter plot: Top 3 games in each genre for each region \n",
    "    #This might help us explain and point out individual game titles that are dominating their genre.\n",
    "sorted_genre_NA = list(sales_data[sales_data.Region==\"NA_Sales\"].groupby(\"Genre\").sum().sort_values(\"Sales\",ascending=False).index)    \n",
    "sorted_genre_EU = list(sales_data[sales_data.Region==\"EU_Sales\"].groupby(\"Genre\").sum().sort_values(\"Sales\",ascending=False).index)      \n",
    "sorted_genre_JP = list(sales_data[sales_data.Region==\"JP_Sales\"].groupby(\"Genre\").sum().sort_values(\"Sales\",ascending=False).index)    \n",
    "sorted_genre_OT = list(sales_data[sales_data.Region==\"Other_Sales\"].groupby(\"Genre\").sum().sort_values(\"Sales\",ascending=False).index)    \n",
    "\n",
    "genre_region = alt.Chart(sales_data).mark_bar(opacity=0.5).encode(\n",
    "    alt.Y(\"Region\",type=\"nominal\",sort=sorted_genre_totalsales),\n",
    "    alt.X(\"sum(Sales)\",title=\"Total Number of Sales (in millions)\",type=\"quantitative\",stack=None),\n",
    "    alt.Color(\"Region\",scale=alt.Scale(scheme='set1'),type=\"nominal\",legend=None))\n",
    "\n",
    "title_NA =alt.Chart(sales_data[sales_data.Region==\"NA_Sales\"]).mark_circle(size=50).encode(\n",
    "    alt.X(\"Genre\",sort=sorted_genre_NA,title=None),\n",
    "    alt.Y(\"Sales:Q\",stack=None, title=\"Sales (in millions)\"),\n",
    "    alt.Color(\"Genre\",scale=alt.Scale(scheme='category20')),\n",
    "    alt.Tooltip(\"Name\"))\n",
    "title_NA = title_NA + alt.Chart(sales_data[sales_data.Region==\"NA_Sales\"].sort_values(\"Sales\",ascending=False).iloc[:5,]).mark_text(align = \"left\", dx=10).encode(\n",
    "    alt.X(\"Genre\",sort=sorted_genre_NA),\n",
    "    alt.Y(\"Sales:Q\"),\n",
    "    text=\"Name\").properties(title=\"NA Sales\")\n",
    "\n",
    "title_JP =alt.Chart(sales_data[sales_data.Region==\"JP_Sales\"]).mark_circle(size=50).encode(\n",
    "    alt.X(\"Genre\",sort=sorted_genre_JP,title=None),\n",
    "    alt.Y(\"Sales:Q\",stack=None,title=None),\n",
    "    alt.Color(\"Genre\",scale=alt.Scale(scheme='category20')),\n",
    "    alt.Tooltip(\"Name\"))\n",
    "title_JP = title_JP + alt.Chart(sales_data[sales_data.Region==\"JP_Sales\"].sort_values(\"Sales\",ascending=False).iloc[:5,]).mark_text(align = \"left\", dx=10).encode(\n",
    "    alt.X(\"Genre\",sort=sorted_genre_JP),\n",
    "    alt.Y(\"Sales:Q\"),\n",
    "    text=\"Name\").properties(title=\"JP Sales\")\n",
    "\n",
    "title_EU =alt.Chart(sales_data[sales_data.Region==\"EU_Sales\"]).mark_circle(size=50).encode(\n",
    "    alt.X(\"Genre\",sort=sorted_genre_EU,title=None),\n",
    "    alt.Y(\"Sales:Q\",stack=None,title=None),\n",
    "    alt.Color(\"Genre\",scale=alt.Scale(scheme='category20')),\n",
    "    alt.Tooltip(\"Name\"))\n",
    "title_EU = title_EU + alt.Chart(sales_data[sales_data.Region==\"EU_Sales\"].sort_values(\"Sales\",ascending=False).iloc[:10,]).mark_text(align = \"left\", dx=10).encode(\n",
    "    alt.X(\"Genre\",sort=sorted_genre_EU),\n",
    "    alt.Y(\"Sales:Q\"),\n",
    "    text=\"Name\").properties(title=\"EU Sales\")\n",
    "\n",
    "title_OT =alt.Chart(sales_data[sales_data.Region==\"Other_Sales\"]).mark_circle(size=50).encode(\n",
    "    alt.X(\"Genre\",sort=sorted_genre_OT,title=None),\n",
    "    alt.Y(\"Sales:Q\",stack=None,title=None),\n",
    "    alt.Color(\"Genre\",scale=alt.Scale(scheme='category20')),\n",
    "    alt.Tooltip(\"Name\"))\n",
    "\n",
    "title_OT = title_OT + alt.Chart(sales_data[sales_data.Region==\"Other_Sales\"].sort_values(\"Sales\",ascending=False).iloc[:5,]).mark_text(align = \"left\", dx=10).encode(\n",
    "    alt.X(\"Genre\",sort=sorted_genre_OT),\n",
    "    alt.Y(\"Sales:Q\"),\n",
    "    text=\"Name\").properties(title=\"Other Sales\")\n",
    "\n",
    "name_sales = (title_NA.properties(width=250) | title_EU.properties(width=250) | title_JP.properties(width=250) | title_OT.properties(width=250))\n",
    "name_sales = name_sales & genre_region.properties(width=1210).resolve_scale(color='independent')\n",
    "name_sales = name_sales.properties(title={\"text\":\"Distribution of games titles across each Region by Genre.\",\"subtitle\":[\"Top 5 games in each region are labelled. Overall Regional perfomance shown below.\",\"\"]}).configure_axis(\n",
    "                labelFontSize=12,\n",
    "                titleFontSize=13).configure_title(fontSize = 20,subtitleFontSize=15) \n",
    "\n",
    "#4) Growth of Game Genres, Publishers and Platforms over the Years\n",
    "genre_data = pd.Series(game.groupby(['Year','Genre']).size().groupby('Year').size(), name='Genre')\n",
    "pub_data = pd.Series(game.groupby(['Year','Publisher']).size().groupby('Year').size(), name='Publisher')\n",
    "plat_data = pd.Series(game.groupby(['Year','Platform']).size().groupby('Year').size(), name='Platform')\n",
    "rel_data = pd.concat([genre_data,pub_data,plat_data], axis=1).reset_index()\n",
    "\n",
    "plot4=alt.Chart(rel_data).transform_fold(['Genre','Publisher','Platform']\n",
    ").mark_bar(point=True).encode(\n",
    "    x='Year:O',\n",
    "    y=alt.Y('value:Q', axis=alt.Axis(title='Number of Genre/Publishers/Platforms')),\n",
    "    color=alt.Color('key:N', legend=alt.Legend(title='Feature'))\n",
    ").properties(width=1000)\n",
    "\n",
    "#5) Maximum Annual Global Sales Numbers\n",
    "plot5=alt.Chart(game).mark_line(point=True).encode(\n",
    "    x='Year:N',\n",
    "    y=alt.Y('max(Global_Sales):Q', axis=alt.Axis(title='Maximum Annual Global Sales'))\n",
    ").properties(width=1000)"
   ]
  },
  {
   "cell_type": "markdown",
   "metadata": {},
   "source": [
    "1) **Basic Exploratory visualizations of things we noted in the 'Initial Thoughts'**\n",
    "- Counts of number of games in each genre, platform and number of games released in each year\n",
    "- Genre and Platform counts are colored by number of counts and sorted from largest to smallest\n",
    "- Year counts are colored by year and sorted from largest to smallest \n",
    "- We see Action is quite ahead of other genres in terms of numbers of games released, followed by Sports\n",
    "- We see DS and PS2 have the highest number of games released in terms of Platform. \n",
    "- The years 2006-2011 have the highest number of game released. \n",
    "\n",
    "There are a ton of different ways to analyze this data set, lets just look at Genres for now."
   ]
  },
  {
   "cell_type": "code",
   "execution_count": 6,
   "metadata": {},
   "outputs": [
    {
     "output_type": "execute_result",
     "data": {
      "application/vnd.vegalite.v4+json": {
       "config": {
        "view": {
         "continuousWidth": 400,
         "continuousHeight": 300
        },
        "axis": {
         "labelFontSize": 12,
         "titleFontSize": 13
        },
        "title": {
         "fontSize": 25,
         "subtitleFontSize": 15
        }
       },
       "vconcat": [
        {
         "hconcat": [
          {
           "mark": "bar",
           "encoding": {
            "color": {
             "type": "quantitative",
             "aggregate": "count",
             "legend": null,
             "scale": {
              "scheme": "category20b"
             }
            },
            "tooltip": {
             "type": "quantitative",
             "aggregate": "count"
            },
            "x": {
             "type": "nominal",
             "field": "Genre",
             "sort": [
              "Action",
              "Sports",
              "Misc",
              "Role-Playing",
              "Shooter",
              "Adventure",
              "Racing",
              "Platform",
              "Simulation",
              "Fighting",
              "Strategy",
              "Puzzle"
             ]
            },
            "y": {
             "type": "quantitative",
             "aggregate": "count",
             "title": "Number of games"
            }
           },
           "width": 333
          },
          {
           "mark": "bar",
           "encoding": {
            "color": {
             "type": "quantitative",
             "aggregate": "count",
             "legend": null,
             "scale": {
              "scheme": "category20b"
             }
            },
            "tooltip": {
             "type": "quantitative",
             "aggregate": "count"
            },
            "x": {
             "type": "nominal",
             "field": "Platform",
             "sort": [
              "DS",
              "PS2",
              "PS3",
              "Wii",
              "X360",
              "PSP",
              "PS",
              "PC",
              "XB",
              "GBA",
              "GC",
              "3DS",
              "PSV",
              "PS4",
              "N64",
              "SNES",
              "XOne",
              "SAT",
              "WiiU",
              "2600",
              "NES",
              "GB",
              "DC",
              "GEN",
              "NG",
              "SCD",
              "WS",
              "3DO",
              "TG16",
              "PCFX",
              "GG"
             ]
            },
            "y": {
             "type": "quantitative",
             "aggregate": "count",
             "title": "Number of games"
            }
           },
           "width": 666
          }
         ],
         "resolve": {
          "scale": {
           "color": "independent"
          }
         }
        },
        {
         "mark": "bar",
         "encoding": {
          "color": {
           "type": "quantitative",
           "field": "Year",
           "scale": {
            "scheme": "category20c"
           }
          },
          "tooltip": {
           "type": "quantitative",
           "aggregate": "count"
          },
          "x": {
           "type": "ordinal",
           "field": "Year",
           "sort": [
            2009,
            2008,
            2010,
            2007,
            2011,
            2006,
            2005,
            2002,
            2003,
            2004,
            2012,
            2015,
            2014,
            2013,
            2001,
            1998,
            2000,
            2016,
            1999,
            1997,
            1996,
            1995,
            1994,
            1993,
            1981,
            1992,
            1991,
            1982,
            1986,
            1989,
            1983,
            1990,
            1987,
            1988,
            1985,
            1984,
            1980,
            2017,
            2020
           ]
          },
          "y": {
           "type": "quantitative",
           "aggregate": "count",
           "title": "Number of games"
          }
         },
         "width": 1000
        }
       ],
       "data": {
        "url": "http://localhost:16278/c994c709d08a6a2bc7a001b12f3c59f4.json"
       },
       "resolve": {
        "scale": {
         "color": "independent"
        }
       },
       "title": {
        "text": "Number of games released by Genre, Platform and Year",
        "subtitle": [
         "Counts only include games that have sold more than 100,000 copies. Bars for the Genre and Platform plot are coloured by number of games.",
         ""
        ]
       },
       "$schema": "https://vega.github.io/schema/vega-lite/v4.8.1.json"
      },
      "text/plain": [
       "<VegaLite 4 object>\n",
       "\n",
       "If you see this message, it means the renderer has not been properly enabled\n",
       "for the frontend that you are using. For more information, see\n",
       "https://altair-viz.github.io/user_guide/troubleshooting.html\n"
      ]
     },
     "metadata": {},
     "execution_count": 6
    }
   ],
   "source": [
    "count_plots"
   ]
  },
  {
   "cell_type": "markdown",
   "metadata": {},
   "source": [
    "2) **Sales across Genres for each Region**\n",
    "- Genres are sorted by decreasing Global Sales (Action is most sales vs Strategy is least)\n",
    "- Notice we see Shooters - while having fewer games released, still sold a lot of copies meaning their titles seemed to do well and the same (to a larger extent) can be said about Platformers.\n",
    "- Looking at the means of each genre, we can see exactly as we noticed above with the mean number of sales in the Shooter/Platform genre now ahead of the rest. \n",
    "- It is also interesting to see the trend across genres. We see NA, EU and Other sale patters tend to be more similar while JP sale patterns are distinct from the other regions, with a large emphasis on RPG, Platformers.\n",
    "\n",
    "Lets investigate what's going on in each region. We can do so by looking at individual titles by region. This might help us explain and point out individual game titles that are dominating their genre."
   ]
  },
  {
   "cell_type": "code",
   "execution_count": 7,
   "metadata": {},
   "outputs": [
    {
     "output_type": "execute_result",
     "data": {
      "application/vnd.vegalite.v4+json": {
       "config": {
        "view": {
         "continuousWidth": 400,
         "continuousHeight": 300
        },
        "axis": {
         "labelFontSize": 12,
         "titleFontSize": 13
        },
        "title": {
         "fontSize": 25,
         "subtitleFontSize": 15
        }
       },
       "hconcat": [
        {
         "layer": [
          {
           "mark": {
            "type": "bar",
            "opacity": 0.5
           },
           "encoding": {
            "color": {
             "type": "nominal",
             "field": "Region",
             "scale": {
              "scheme": "set1"
             }
            },
            "tooltip": {
             "type": "nominal",
             "field": "Region"
            },
            "x": {
             "type": "nominal",
             "field": "Genre",
             "sort": [
              "Action",
              "Sports",
              "Shooter",
              "Role-Playing",
              "Platform",
              "Misc",
              "Racing",
              "Fighting",
              "Simulation",
              "Puzzle",
              "Adventure",
              "Strategy"
             ]
            },
            "y": {
             "type": "quantitative",
             "aggregate": "sum",
             "field": "Sales",
             "stack": null,
             "title": "Total Number of Sales (in millions)"
            }
           }
          },
          {
           "mark": "circle",
           "encoding": {
            "color": {
             "type": "nominal",
             "field": "Region",
             "scale": {
              "scheme": "set1"
             }
            },
            "tooltip": {
             "type": "nominal",
             "field": "Region"
            },
            "x": {
             "type": "nominal",
             "field": "Genre",
             "sort": [
              "Action",
              "Sports",
              "Shooter",
              "Role-Playing",
              "Platform",
              "Misc",
              "Racing",
              "Fighting",
              "Simulation",
              "Puzzle",
              "Adventure",
              "Strategy"
             ]
            },
            "y": {
             "type": "quantitative",
             "aggregate": "sum",
             "field": "Sales",
             "stack": null,
             "title": "Total Number of Sales (in millions)"
            }
           }
          }
         ]
        },
        {
         "layer": [
          {
           "mark": {
            "type": "bar",
            "opacity": 0.5
           },
           "encoding": {
            "color": {
             "type": "nominal",
             "field": "Region"
            },
            "tooltip": {
             "type": "nominal",
             "field": "Region"
            },
            "x": {
             "type": "nominal",
             "field": "Genre",
             "sort": [
              "Action",
              "Sports",
              "Shooter",
              "Role-Playing",
              "Platform",
              "Misc",
              "Racing",
              "Fighting",
              "Simulation",
              "Puzzle",
              "Adventure",
              "Strategy"
             ]
            },
            "y": {
             "type": "quantitative",
             "aggregate": "mean",
             "field": "Sales",
             "stack": null,
             "title": "Average Number of Sales (in millions)"
            }
           }
          },
          {
           "mark": "circle",
           "encoding": {
            "color": {
             "type": "nominal",
             "field": "Region"
            },
            "tooltip": {
             "type": "nominal",
             "field": "Region"
            },
            "x": {
             "type": "nominal",
             "field": "Genre",
             "sort": [
              "Action",
              "Sports",
              "Shooter",
              "Role-Playing",
              "Platform",
              "Misc",
              "Racing",
              "Fighting",
              "Simulation",
              "Puzzle",
              "Adventure",
              "Strategy"
             ]
            },
            "y": {
             "type": "quantitative",
             "aggregate": "mean",
             "field": "Sales",
             "stack": null,
             "title": "Average Number of Sales (in millions)"
            }
           }
          }
         ]
        }
       ],
       "data": {
        "url": "http://localhost:16278/6b3d515f813da00c4e7b534a5ba924b2.json"
       },
       "title": {
        "text": "Comparing sales in each region by genre.",
        "subtitle": [
         "Bars and points represent number of sales in millions and coloured by Region.",
         ""
        ]
       },
       "$schema": "https://vega.github.io/schema/vega-lite/v4.8.1.json"
      },
      "text/plain": [
       "<VegaLite 4 object>\n",
       "\n",
       "If you see this message, it means the renderer has not been properly enabled\n",
       "for the frontend that you are using. For more information, see\n",
       "https://altair-viz.github.io/user_guide/troubleshooting.html\n"
      ]
     },
     "metadata": {},
     "execution_count": 7
    }
   ],
   "source": [
    "genre_plots"
   ]
  },
  {
   "cell_type": "markdown",
   "metadata": {},
   "source": [
    "3) **Distribution of game titles by Genre across each Region**\n",
    "- The top 5 titles in each region across genres are labeled. The genres are also sorted by most sales (left) to least sales (right). \n",
    "- Just by looking at the scales, it seems NA sells the most copies, followed by EU, JP and Other. This is also re-enforced by the bar plot below showing the total number of copies sold (in millions) by region. \n",
    "- Looking at genres across regions, we see NA, EU and Other are similar (as concluded from the plot before). While Action and Sports are still in the Top 3 genres for JP, we see RPG being first and Shooters being last.\n",
    "- We see NA, EU and Other having similar Top 5 games, all having Wii Sports and Mario Kart.\n",
    "- The JP region seems to love their RPG games which makes sense as they even have a subcategory named after them (JRPGs - Japanese RPGs)\n",
    "- We see the bulk of games in most regions (except Other) lie around or below the 5 million copies sold mark and relatively few titles make it above."
   ]
  },
  {
   "cell_type": "code",
   "execution_count": 56,
   "metadata": {},
   "outputs": [
    {
     "output_type": "execute_result",
     "data": {
      "application/vnd.vegalite.v4+json": {
       "config": {
        "view": {
         "continuousWidth": 400,
         "continuousHeight": 300
        },
        "axis": {
         "labelFontSize": 12,
         "titleFontSize": 13
        },
        "title": {
         "fontSize": 20,
         "subtitleFontSize": 15
        }
       },
       "vconcat": [
        {
         "hconcat": [
          {
           "layer": [
            {
             "data": {
              "url": "http://localhost:16278/f65161f1798a2ac887337aaad0cb7a8b.json"
             },
             "mark": {
              "type": "circle",
              "size": 50
             },
             "encoding": {
              "color": {
               "type": "nominal",
               "field": "Genre",
               "scale": {
                "scheme": "category20"
               }
              },
              "tooltip": {
               "type": "nominal",
               "field": "Name"
              },
              "x": {
               "type": "nominal",
               "field": "Genre",
               "sort": [
                "Action",
                "Sports",
                "Shooter",
                "Platform",
                "Misc",
                "Racing",
                "Role-Playing",
                "Fighting",
                "Simulation",
                "Puzzle",
                "Adventure",
                "Strategy"
               ],
               "title": null
              },
              "y": {
               "type": "quantitative",
               "field": "Sales",
               "stack": null,
               "title": "Sales (in millions)"
              }
             }
            },
            {
             "data": {
              "url": "http://localhost:16278/51dd0f701d7c6ea5cbdc28f740c6e9ed.json"
             },
             "mark": {
              "type": "text",
              "align": "left",
              "dx": 10
             },
             "encoding": {
              "text": {
               "type": "nominal",
               "field": "Name"
              },
              "x": {
               "type": "nominal",
               "field": "Genre",
               "sort": [
                "Action",
                "Sports",
                "Shooter",
                "Platform",
                "Misc",
                "Racing",
                "Role-Playing",
                "Fighting",
                "Simulation",
                "Puzzle",
                "Adventure",
                "Strategy"
               ]
              },
              "y": {
               "type": "quantitative",
               "field": "Sales"
              }
             },
             "title": "NA Sales"
            }
           ],
           "width": 250
          },
          {
           "layer": [
            {
             "data": {
              "url": "http://localhost:16278/2ee1bfd81837f47f23c628706b88ad07.json"
             },
             "mark": {
              "type": "circle",
              "size": 50
             },
             "encoding": {
              "color": {
               "type": "nominal",
               "field": "Genre",
               "scale": {
                "scheme": "category20"
               }
              },
              "tooltip": {
               "type": "nominal",
               "field": "Name"
              },
              "x": {
               "type": "nominal",
               "field": "Genre",
               "sort": [
                "Action",
                "Sports",
                "Shooter",
                "Racing",
                "Misc",
                "Platform",
                "Role-Playing",
                "Simulation",
                "Fighting",
                "Adventure",
                "Puzzle",
                "Strategy"
               ],
               "title": null
              },
              "y": {
               "type": "quantitative",
               "field": "Sales",
               "stack": null,
               "title": null
              }
             }
            },
            {
             "data": {
              "url": "http://localhost:16278/a6ca860a2fe3b633c804483c71daacff.json"
             },
             "mark": {
              "type": "text",
              "align": "left",
              "dx": 10
             },
             "encoding": {
              "text": {
               "type": "nominal",
               "field": "Name"
              },
              "x": {
               "type": "nominal",
               "field": "Genre",
               "sort": [
                "Action",
                "Sports",
                "Shooter",
                "Racing",
                "Misc",
                "Platform",
                "Role-Playing",
                "Simulation",
                "Fighting",
                "Adventure",
                "Puzzle",
                "Strategy"
               ]
              },
              "y": {
               "type": "quantitative",
               "field": "Sales"
              }
             },
             "title": "EU Sales"
            }
           ],
           "width": 250
          },
          {
           "layer": [
            {
             "data": {
              "url": "http://localhost:16278/51693b0061798cba9106440c000e2be6.json"
             },
             "mark": {
              "type": "circle",
              "size": 50
             },
             "encoding": {
              "color": {
               "type": "nominal",
               "field": "Genre",
               "scale": {
                "scheme": "category20"
               }
              },
              "tooltip": {
               "type": "nominal",
               "field": "Name"
              },
              "x": {
               "type": "nominal",
               "field": "Genre",
               "sort": [
                "Role-Playing",
                "Action",
                "Sports",
                "Platform",
                "Misc",
                "Fighting",
                "Simulation",
                "Puzzle",
                "Racing",
                "Adventure",
                "Strategy",
                "Shooter"
               ],
               "title": null
              },
              "y": {
               "type": "quantitative",
               "field": "Sales",
               "stack": null,
               "title": null
              }
             }
            },
            {
             "data": {
              "url": "http://localhost:16278/601f637a710e8794ec375b1896704880.json"
             },
             "mark": {
              "type": "text",
              "align": "left",
              "dx": 10
             },
             "encoding": {
              "text": {
               "type": "nominal",
               "field": "Name"
              },
              "x": {
               "type": "nominal",
               "field": "Genre",
               "sort": [
                "Role-Playing",
                "Action",
                "Sports",
                "Platform",
                "Misc",
                "Fighting",
                "Simulation",
                "Puzzle",
                "Racing",
                "Adventure",
                "Strategy",
                "Shooter"
               ]
              },
              "y": {
               "type": "quantitative",
               "field": "Sales"
              }
             },
             "title": "JP Sales"
            }
           ],
           "width": 250
          },
          {
           "layer": [
            {
             "data": {
              "url": "http://localhost:16278/5dd7b7e6fbbf845ec4f06bc9b23db8af.json"
             },
             "mark": {
              "type": "circle",
              "size": 50
             },
             "encoding": {
              "color": {
               "type": "nominal",
               "field": "Genre",
               "scale": {
                "scheme": "category20"
               }
              },
              "tooltip": {
               "type": "nominal",
               "field": "Name"
              },
              "x": {
               "type": "nominal",
               "field": "Genre",
               "sort": [
                "Action",
                "Sports",
                "Shooter",
                "Racing",
                "Misc",
                "Role-Playing",
                "Platform",
                "Fighting",
                "Simulation",
                "Adventure",
                "Puzzle",
                "Strategy"
               ],
               "title": null
              },
              "y": {
               "type": "quantitative",
               "field": "Sales",
               "stack": null,
               "title": null
              }
             }
            },
            {
             "data": {
              "url": "http://localhost:16278/56281a5259a17fe2efbabef7e4f2c5b4.json"
             },
             "mark": {
              "type": "text",
              "align": "left",
              "dx": 10
             },
             "encoding": {
              "text": {
               "type": "nominal",
               "field": "Name"
              },
              "x": {
               "type": "nominal",
               "field": "Genre",
               "sort": [
                "Action",
                "Sports",
                "Shooter",
                "Racing",
                "Misc",
                "Role-Playing",
                "Platform",
                "Fighting",
                "Simulation",
                "Adventure",
                "Puzzle",
                "Strategy"
               ]
              },
              "y": {
               "type": "quantitative",
               "field": "Sales"
              }
             },
             "title": "Other Sales"
            }
           ],
           "width": 250
          }
         ]
        },
        {
         "data": {
          "url": "http://localhost:16278/6b3d515f813da00c4e7b534a5ba924b2.json"
         },
         "mark": {
          "type": "bar",
          "opacity": 0.5
         },
         "encoding": {
          "color": {
           "type": "nominal",
           "field": "Region",
           "legend": null,
           "scale": {
            "scheme": "set1"
           }
          },
          "x": {
           "type": "quantitative",
           "aggregate": "sum",
           "field": "Sales",
           "stack": null,
           "title": "Total Number of Sales (in millions)"
          },
          "y": {
           "type": "nominal",
           "field": "Region",
           "sort": [
            "Action",
            "Sports",
            "Shooter",
            "Role-Playing",
            "Platform",
            "Misc",
            "Racing",
            "Fighting",
            "Simulation",
            "Puzzle",
            "Adventure",
            "Strategy"
           ]
          }
         },
         "resolve": {
          "scale": {
           "color": "independent"
          }
         },
         "width": 1210
        }
       ],
       "title": {
        "text": "Distribution of games titles across each Region by Genre.",
        "subtitle": [
         "Top 5 games in each region are labelled. Overall Regional perfomance shown below.",
         ""
        ]
       },
       "$schema": "https://vega.github.io/schema/vega-lite/v4.8.1.json"
      },
      "text/plain": [
       "<VegaLite 4 object>\n",
       "\n",
       "If you see this message, it means the renderer has not been properly enabled\n",
       "for the frontend that you are using. For more information, see\n",
       "https://altair-viz.github.io/user_guide/troubleshooting.html\n"
      ]
     },
     "metadata": {},
     "execution_count": 56
    }
   ],
   "source": [
    "name_sales"
   ]
  },
  {
   "cell_type": "markdown",
   "metadata": {},
   "source": [
    "4) **Growth of Game Genres, Publishers and Platforms over the Years**"
   ]
  },
  {
   "cell_type": "markdown",
   "metadata": {},
   "source": [
    "- From our dataset we see that the year around 2010 were of highest games sales activity.\n",
    "- In 1980 we had only two game companies/publishers make five genre of games. \n",
    "- Lots of different publishers entered the gaming market with over 180 gaming companies around 2010 offering different gaming products.\n",
    "- Its interesting to see that the number of gaming consoles/platforms (like Xbox, PS5) have not increased. These consoles need bigger investment and only big gaming industry players held that market segment."
   ]
  },
  {
   "cell_type": "code",
   "execution_count": 9,
   "metadata": {},
   "outputs": [
    {
     "output_type": "execute_result",
     "data": {
      "application/vnd.vegalite.v4+json": {
       "config": {
        "view": {
         "continuousWidth": 400,
         "continuousHeight": 300
        }
       },
       "data": {
        "url": "http://localhost:16278/4c53b8e714afe60a5421378e8f17314a.json"
       },
       "mark": {
        "type": "bar",
        "point": true
       },
       "encoding": {
        "color": {
         "type": "nominal",
         "field": "key",
         "legend": {
          "title": "Feature"
         }
        },
        "x": {
         "type": "ordinal",
         "field": "Year"
        },
        "y": {
         "type": "quantitative",
         "axis": {
          "title": "Number of Genre/Publishers/Platforms"
         },
         "field": "value"
        }
       },
       "transform": [
        {
         "fold": [
          "Genre",
          "Publisher",
          "Platform"
         ]
        }
       ],
       "width": 1000,
       "$schema": "https://vega.github.io/schema/vega-lite/v4.8.1.json"
      },
      "text/plain": [
       "<VegaLite 4 object>\n",
       "\n",
       "If you see this message, it means the renderer has not been properly enabled\n",
       "for the frontend that you are using. For more information, see\n",
       "https://altair-viz.github.io/user_guide/troubleshooting.html\n"
      ]
     },
     "metadata": {},
     "execution_count": 9
    }
   ],
   "source": [
    "plot4"
   ]
  },
  {
   "cell_type": "markdown",
   "metadata": {},
   "source": [
    "5) **Maximum Annual Global Sales Numbers**"
   ]
  },
  {
   "cell_type": "code",
   "execution_count": 10,
   "metadata": {},
   "outputs": [
    {
     "output_type": "execute_result",
     "data": {
      "application/vnd.vegalite.v4+json": {
       "config": {
        "view": {
         "continuousWidth": 400,
         "continuousHeight": 300
        }
       },
       "data": {
        "url": "http://localhost:16278/c994c709d08a6a2bc7a001b12f3c59f4.json"
       },
       "mark": {
        "type": "line",
        "point": true
       },
       "encoding": {
        "x": {
         "type": "nominal",
         "field": "Year"
        },
        "y": {
         "type": "quantitative",
         "aggregate": "max",
         "axis": {
          "title": "Maximum Annual Global Sales"
         },
         "field": "Global_Sales"
        }
       },
       "width": 1000,
       "$schema": "https://vega.github.io/schema/vega-lite/v4.8.1.json"
      },
      "text/plain": [
       "<VegaLite 4 object>\n",
       "\n",
       "If you see this message, it means the renderer has not been properly enabled\n",
       "for the frontend that you are using. For more information, see\n",
       "https://altair-viz.github.io/user_guide/troubleshooting.html\n"
      ]
     },
     "metadata": {},
     "execution_count": 10
    }
   ],
   "source": [
    "plot5"
   ]
  },
  {
   "cell_type": "markdown",
   "metadata": {},
   "source": [
    "#### 7. Future Studies\n",
    "1) **Revenue and marketing model of games**  \n",
    "While this dataset can give us a general idea of popularity of games across years, genres, publishers and platforms, it does not necessarily tell us which genre is most profitable in terms of revenue.  \n",
    "Currently, one of the largest gaming market is `Mobile Gaming` which would not have a metric such as `copies sold` but rather `downloads`. We also know some of the biggest games such as League of Legends, and DOTA 2 run off a \"free to play\" model for PC so they would also not have a \"copies sold\" metric. On top of that, a game that is free, take League of Legends for example, will make money through micro transactions (for example they made $1.75 billion dollars in 2020).  \n",
    "As a more accurate analysis of how platforms, titles, developers and genres are performing in terms of revenue, popularity and activity, we might want to expand and improve the quality and type of data we are looking at. Certain things that we could use as better metrics: \n",
    "- Generic things such as: Game title, year of release, company, genre, platform\n",
    "- We could look at copies sold AND downloads \n",
    "- We could look at concurrent players (as to get a sense of the size of the active player base) *This would be very useful in comparing multi player games and even peak hours of gaming\n",
    "- The payment model of the game (single time purchase, subscription based, free-to-play)\n",
    "- Reported revenue (could be trickier to find)\n",
    "- We can also include things like development cost (could be trickier to find)\n",
    "- Reviews/General consensus  \n",
    "\n",
    "This could be very helpful from a companies perspective to narrow down on a target audience and possible find niche areas of the gaming community that show promise.\n",
    "\n",
    "2) **Viewership and Entertainment**  \n",
    "We could also expand our data set to analyze things in the streaming industry, where there is also big money to be had. Now a days, it seems like many people dream of being a streamer. Just to sit at home and play games all day while raking in large amounts of money, but it would be interesting to see certain stats such as, how much money do you need to break even (average living cost vs income from streaming broken down into views, subs, donations etc.) and to see how many people on platforms such as YouTube gaming, Twitch, Facebook gaming meet this threshold of 'success'. Things you would need would be:  \n",
    "- List of streamers, platform they stream on, hours streamed, revenue\n",
    " \n",
    "You could also look to see if certain genre of games or certain game titles themselves lead to better chances of success. For this you would need to further breakdown streamer information by game played, time streamed, views, donations and subscriptions received during that stream.  \n",
    "Obviously, I feel a lot of this data would be difficult to obtain and that the success of a streamer is heavily influenced by personality, but it would be interesting to see if there is anything that can be identified to give upcoming streamers a slight advantage against big names."
   ]
  },
  {
   "cell_type": "code",
   "execution_count": 11,
   "metadata": {},
   "outputs": [
    {
     "output_type": "error",
     "ename": "TypeError",
     "evalue": "Index does not support mutable operations",
     "traceback": [
      "\u001b[1;31m---------------------------------------------------------------------------\u001b[0m",
      "\u001b[1;31mTypeError\u001b[0m                                 Traceback (most recent call last)",
      "\u001b[1;32m<ipython-input-11-bbffbd2482fe>\u001b[0m in \u001b[0;36m<module>\u001b[1;34m\u001b[0m\n\u001b[0;32m      1\u001b[0m \u001b[0mfiltered_data\u001b[0m \u001b[1;33m=\u001b[0m \u001b[0msales_data\u001b[0m\u001b[1;33m[\u001b[0m\u001b[0msales_data\u001b[0m\u001b[1;33m.\u001b[0m\u001b[0mRegion\u001b[0m\u001b[1;33m==\u001b[0m\u001b[1;34m\"NA\"\u001b[0m\u001b[1;33m]\u001b[0m\u001b[1;33m.\u001b[0m\u001b[0msort_values\u001b[0m\u001b[1;33m(\u001b[0m\u001b[1;34m\"Sales\"\u001b[0m\u001b[1;33m,\u001b[0m\u001b[0mascending\u001b[0m\u001b[1;33m=\u001b[0m\u001b[1;32mFalse\u001b[0m\u001b[1;33m)\u001b[0m\u001b[1;33m[\u001b[0m\u001b[1;36m0\u001b[0m\u001b[1;33m:\u001b[0m\u001b[1;36m10\u001b[0m\u001b[1;33m]\u001b[0m\u001b[1;33m\u001b[0m\u001b[1;33m\u001b[0m\u001b[0m\n\u001b[1;32m----> 2\u001b[1;33m \u001b[0mfiltered_data\u001b[0m\u001b[1;33m.\u001b[0m\u001b[0mcolumns\u001b[0m\u001b[1;33m[\u001b[0m\u001b[1;36m0\u001b[0m\u001b[1;33m]\u001b[0m \u001b[1;33m=\u001b[0m \u001b[1;34m\"Global Ranking\"\u001b[0m\u001b[1;33m\u001b[0m\u001b[1;33m\u001b[0m\u001b[0m\n\u001b[0m",
      "\u001b[1;32mD:\\Anaconda\\lib\\site-packages\\pandas\\core\\indexes\\base.py\u001b[0m in \u001b[0;36m__setitem__\u001b[1;34m(self, key, value)\u001b[0m\n\u001b[0;32m   4075\u001b[0m \u001b[1;33m\u001b[0m\u001b[0m\n\u001b[0;32m   4076\u001b[0m     \u001b[1;32mdef\u001b[0m \u001b[0m__setitem__\u001b[0m\u001b[1;33m(\u001b[0m\u001b[0mself\u001b[0m\u001b[1;33m,\u001b[0m \u001b[0mkey\u001b[0m\u001b[1;33m,\u001b[0m \u001b[0mvalue\u001b[0m\u001b[1;33m)\u001b[0m\u001b[1;33m:\u001b[0m\u001b[1;33m\u001b[0m\u001b[1;33m\u001b[0m\u001b[0m\n\u001b[1;32m-> 4077\u001b[1;33m         \u001b[1;32mraise\u001b[0m \u001b[0mTypeError\u001b[0m\u001b[1;33m(\u001b[0m\u001b[1;34m\"Index does not support mutable operations\"\u001b[0m\u001b[1;33m)\u001b[0m\u001b[1;33m\u001b[0m\u001b[1;33m\u001b[0m\u001b[0m\n\u001b[0m\u001b[0;32m   4078\u001b[0m \u001b[1;33m\u001b[0m\u001b[0m\n\u001b[0;32m   4079\u001b[0m     \u001b[1;32mdef\u001b[0m \u001b[0m__getitem__\u001b[0m\u001b[1;33m(\u001b[0m\u001b[0mself\u001b[0m\u001b[1;33m,\u001b[0m \u001b[0mkey\u001b[0m\u001b[1;33m)\u001b[0m\u001b[1;33m:\u001b[0m\u001b[1;33m\u001b[0m\u001b[1;33m\u001b[0m\u001b[0m\n",
      "\u001b[1;31mTypeError\u001b[0m: Index does not support mutable operations"
     ]
    }
   ],
   "source": [
    "sales_data_platform"
   ]
  },
  {
   "cell_type": "code",
   "execution_count": 65,
   "metadata": {},
   "outputs": [
    {
     "output_type": "execute_result",
     "data": {
      "text/plain": [
       "        Rank                                               Name Platform  \\\n",
       "16614     17                                 Grand Theft Auto V      PS3   \n",
       "16642     45                                 Grand Theft Auto V      PS4   \n",
       "16622     25                        Grand Theft Auto: Vice City      PS2   \n",
       "16621     24                                 Grand Theft Auto V     X360   \n",
       "16680     83                                     FIFA Soccer 13      PS3   \n",
       "...      ...                                                ...      ...   \n",
       "29588  12992         Strawberry Shortcake: Strawberryland Games       DS   \n",
       "29591  12995                  Hysteria Hospital: Emergency Ward      Wii   \n",
       "25302   8706               Senran Kagura: Sh?jo-tachi no Shinei      3DS   \n",
       "29623  13027                              Luminous Arc Infinity      PSV   \n",
       "33187  16592  Chou Ezaru wa Akai Hana: Koi wa Tsuki ni Shiru...      PSV   \n",
       "\n",
       "       Year   Genre              Publisher    Region  Sales  \n",
       "16614  2013  Action   Take-Two Interactive  EU_Sales   9.27  \n",
       "16642  2014  Action   Take-Two Interactive  EU_Sales   5.81  \n",
       "16622  2002  Action   Take-Two Interactive  EU_Sales   5.49  \n",
       "16621  2013  Action   Take-Two Interactive  EU_Sales   5.31  \n",
       "16680  2012  Action        Electronic Arts  EU_Sales   5.05  \n",
       "...     ...     ...                    ...       ...    ...  \n",
       "29588  2006  Action           Game Factory  EU_Sales   0.00  \n",
       "29591  2009  Action     Oxygen Interactive  EU_Sales   0.00  \n",
       "25302  2011  Action  Marvelous Interactive  EU_Sales   0.00  \n",
       "29623  2015  Action   Marvel Entertainment  EU_Sales   0.00  \n",
       "33187  2016  Action        dramatic create  EU_Sales   0.00  \n",
       "\n",
       "[3316 rows x 8 columns]"
      ],
      "text/html": "<div>\n<style scoped>\n    .dataframe tbody tr th:only-of-type {\n        vertical-align: middle;\n    }\n\n    .dataframe tbody tr th {\n        vertical-align: top;\n    }\n\n    .dataframe thead th {\n        text-align: right;\n    }\n</style>\n<table border=\"1\" class=\"dataframe\">\n  <thead>\n    <tr style=\"text-align: right;\">\n      <th></th>\n      <th>Rank</th>\n      <th>Name</th>\n      <th>Platform</th>\n      <th>Year</th>\n      <th>Genre</th>\n      <th>Publisher</th>\n      <th>Region</th>\n      <th>Sales</th>\n    </tr>\n  </thead>\n  <tbody>\n    <tr>\n      <th>16614</th>\n      <td>17</td>\n      <td>Grand Theft Auto V</td>\n      <td>PS3</td>\n      <td>2013</td>\n      <td>Action</td>\n      <td>Take-Two Interactive</td>\n      <td>EU_Sales</td>\n      <td>9.27</td>\n    </tr>\n    <tr>\n      <th>16642</th>\n      <td>45</td>\n      <td>Grand Theft Auto V</td>\n      <td>PS4</td>\n      <td>2014</td>\n      <td>Action</td>\n      <td>Take-Two Interactive</td>\n      <td>EU_Sales</td>\n      <td>5.81</td>\n    </tr>\n    <tr>\n      <th>16622</th>\n      <td>25</td>\n      <td>Grand Theft Auto: Vice City</td>\n      <td>PS2</td>\n      <td>2002</td>\n      <td>Action</td>\n      <td>Take-Two Interactive</td>\n      <td>EU_Sales</td>\n      <td>5.49</td>\n    </tr>\n    <tr>\n      <th>16621</th>\n      <td>24</td>\n      <td>Grand Theft Auto V</td>\n      <td>X360</td>\n      <td>2013</td>\n      <td>Action</td>\n      <td>Take-Two Interactive</td>\n      <td>EU_Sales</td>\n      <td>5.31</td>\n    </tr>\n    <tr>\n      <th>16680</th>\n      <td>83</td>\n      <td>FIFA Soccer 13</td>\n      <td>PS3</td>\n      <td>2012</td>\n      <td>Action</td>\n      <td>Electronic Arts</td>\n      <td>EU_Sales</td>\n      <td>5.05</td>\n    </tr>\n    <tr>\n      <th>...</th>\n      <td>...</td>\n      <td>...</td>\n      <td>...</td>\n      <td>...</td>\n      <td>...</td>\n      <td>...</td>\n      <td>...</td>\n      <td>...</td>\n    </tr>\n    <tr>\n      <th>29588</th>\n      <td>12992</td>\n      <td>Strawberry Shortcake: Strawberryland Games</td>\n      <td>DS</td>\n      <td>2006</td>\n      <td>Action</td>\n      <td>Game Factory</td>\n      <td>EU_Sales</td>\n      <td>0.00</td>\n    </tr>\n    <tr>\n      <th>29591</th>\n      <td>12995</td>\n      <td>Hysteria Hospital: Emergency Ward</td>\n      <td>Wii</td>\n      <td>2009</td>\n      <td>Action</td>\n      <td>Oxygen Interactive</td>\n      <td>EU_Sales</td>\n      <td>0.00</td>\n    </tr>\n    <tr>\n      <th>25302</th>\n      <td>8706</td>\n      <td>Senran Kagura: Sh?jo-tachi no Shinei</td>\n      <td>3DS</td>\n      <td>2011</td>\n      <td>Action</td>\n      <td>Marvelous Interactive</td>\n      <td>EU_Sales</td>\n      <td>0.00</td>\n    </tr>\n    <tr>\n      <th>29623</th>\n      <td>13027</td>\n      <td>Luminous Arc Infinity</td>\n      <td>PSV</td>\n      <td>2015</td>\n      <td>Action</td>\n      <td>Marvel Entertainment</td>\n      <td>EU_Sales</td>\n      <td>0.00</td>\n    </tr>\n    <tr>\n      <th>33187</th>\n      <td>16592</td>\n      <td>Chou Ezaru wa Akai Hana: Koi wa Tsuki ni Shiru...</td>\n      <td>PSV</td>\n      <td>2016</td>\n      <td>Action</td>\n      <td>dramatic create</td>\n      <td>EU_Sales</td>\n      <td>0.00</td>\n    </tr>\n  </tbody>\n</table>\n<p>3316 rows × 8 columns</p>\n</div>"
     },
     "metadata": {},
     "execution_count": 65
    }
   ],
   "source": [
    "sales_data[(sales_data.Region==\"EU_Sales\") & (sales_data.Genre==\"Action\")].sort_values(\"Sales\",ascending=False)"
   ]
  },
  {
   "cell_type": "code",
   "execution_count": 86,
   "metadata": {},
   "outputs": [
    {
     "output_type": "execute_result",
     "data": {
      "text/plain": [
       "['Action',\n",
       " 'Sports',\n",
       " 'Shooter',\n",
       " 'Platform',\n",
       " 'Misc',\n",
       " 'Racing',\n",
       " 'Role-Playing',\n",
       " 'Fighting',\n",
       " 'Simulation',\n",
       " 'Puzzle',\n",
       " 'Adventure',\n",
       " 'Strategy']"
      ]
     },
     "metadata": {},
     "execution_count": 86
    }
   ],
   "source": [
    "max_year = 2020\n",
    "sales_data = game_melt.loc[game_melt.Region != \"Global_Sales\",:]\n",
    "sales_data_platform = sales_data.groupby([\"Platform\",\"Year\",\"Genre\",\"Region\"]).sum().reset_index()[[\"Platform\",\"Year\",\"Genre\",\"Region\",\"Sales\"]]\n",
    "sales_data_platform\n",
    "sales_data_platform[sales_data_platform.Year <= max_year].groupby([\"Platform\",\"Genre\",\"Region\"]).sum().reset_index()[[\"Platform\",\"Genre\",\"Region\",\"Sales\"]]\n",
    "list(sales_data[(sales_data.Region==region_filter) & (sales_data.Year <= max_year)].groupby(\"Genre\").sum().sort_values(\"Sales\",ascending=False).index)  "
   ]
  },
  {
   "cell_type": "code",
   "execution_count": 94,
   "metadata": {},
   "outputs": [
    {
     "output_type": "execute_result",
     "data": {
      "application/vnd.vegalite.v4+json": {
       "config": {
        "view": {
         "continuousWidth": 400,
         "continuousHeight": 300
        }
       },
       "layer": [
        {
         "data": {
          "url": "http://localhost:16278/ee477ddabeeccb0a4cfaebbd4f135910.json"
         },
         "mark": {
          "type": "circle",
          "size": 50
         },
         "encoding": {
          "color": {
           "type": "nominal",
           "field": "Genre",
           "scale": {
            "scheme": "category20"
           }
          },
          "tooltip": {
           "type": "nominal",
           "field": "Platform"
          },
          "x": {
           "type": "nominal",
           "field": "Genre",
           "sort": [
            "Platform",
            "Action",
            "Shooter",
            "Racing",
            "Sports",
            "Fighting",
            "Puzzle",
            "Role-Playing",
            "Misc",
            "Strategy",
            "Adventure",
            "Simulation"
           ],
           "title": null
          },
          "y": {
           "type": "quantitative",
           "field": "Sales",
           "stack": null,
           "title": "Sales (in millions)"
          }
         }
        },
        {
         "data": {
          "url": "http://localhost:16278/3d997124471cfeeb247ce217f2d8bed2.json"
         },
         "mark": {
          "type": "text",
          "align": "left",
          "dx": 10
         },
         "encoding": {
          "text": {
           "type": "nominal",
           "field": "Platform"
          },
          "x": {
           "type": "nominal",
           "field": "Genre",
           "sort": [
            "Platform",
            "Action",
            "Shooter",
            "Racing",
            "Sports",
            "Fighting",
            "Puzzle",
            "Role-Playing",
            "Misc",
            "Strategy",
            "Adventure",
            "Simulation"
           ]
          },
          "y": {
           "type": "quantitative",
           "field": "Sales"
          }
         }
        }
       ],
       "$schema": "https://vega.github.io/schema/vega-lite/v4.8.1.json"
      },
      "text/plain": [
       "<VegaLite 4 object>\n",
       "\n",
       "If you see this message, it means the renderer has not been properly enabled\n",
       "for the frontend that you are using. For more information, see\n",
       "https://altair-viz.github.io/user_guide/troubleshooting.html\n"
      ]
     },
     "metadata": {},
     "execution_count": 94
    }
   ],
   "source": [
    "\n",
    "sales_data_platform = sales_data.groupby([\"Platform\",\"Year\",\"Genre\",\"Region\"]).sum().reset_index()[[\"Platform\",\"Year\",\"Genre\",\"Region\",\"Sales\"]]\n",
    "max_year = 1999\n",
    "region_filter = \"NA_Sales\"\n",
    "\n",
    "def platform_plot(region_filter,max_year=2020):\n",
    "    sorted_genre = list(sales_data[(sales_data.Region==region_filter) & (sales_data.Year <= max_year)].groupby(\"Genre\").sum().sort_values(\"Sales\",ascending=False).index)   \n",
    "    filtered_set = sales_data_platform[sales_data_platform.Year <= max_year].groupby([\"Platform\",\"Genre\",\"Region\"]).sum().reset_index()[[\"Platform\",\"Genre\",\"Region\",\"Sales\"]]\n",
    "\n",
    "    chart=alt.Chart(filtered_set[filtered_set.Region==region_filter]).mark_circle(size=50).encode(\n",
    "        alt.X(\"Genre\",sort=sorted_genre,title=None),\n",
    "        alt.Y(\"Sales:Q\",stack=None, title=\"Sales (in millions)\"),\n",
    "        alt.Color(\"Genre\",scale=alt.Scale(scheme='category20')),\n",
    "        alt.Tooltip(\"Platform\"))\n",
    "    chart = chart + alt.Chart(filtered_set[filtered_set.Region==region_filter].sort_values(\"Sales\",ascending=False).iloc[:5,]).mark_text(align = \"left\", dx=10).encode(\n",
    "        alt.X(\"Genre\",sort=sorted_genre),\n",
    "        alt.Y(\"Sales:Q\"),\n",
    "        text=\"Platform\")\n",
    "    return chart\n",
    "x = platform_plot(region_filter,max_year)\n",
    "x\n",
    "# chart = chart + alt.Chart(sales_data_platform[sales_data_platform.Region==region_filter].sort_values(\"Sales\",ascending=False).iloc[:5,]).mark_text(align = \"left\", dx=10).encode(\n",
    "#     alt.X(\"Genre\",sort=sorted_genre),\n",
    "#     alt.Y(\"Sales:Q\"),\n",
    "#     text=\"Name\")\n"
   ]
  },
  {
   "cell_type": "code",
   "execution_count": 108,
   "metadata": {},
   "outputs": [
    {
     "output_type": "execute_result",
     "data": {
      "application/vnd.vegalite.v4+json": {
       "config": {
        "view": {
         "continuousWidth": 400,
         "continuousHeight": 300
        }
       },
       "layer": [
        {
         "data": {
          "url": "http://localhost:16278/781ed5fead7f99a963504d197f35e258.json"
         },
         "mark": {
          "type": "circle",
          "size": 50
         },
         "encoding": {
          "color": {
           "type": "nominal",
           "field": "Genre",
           "legend": null,
           "scale": {
            "scheme": "category20"
           }
          },
          "tooltip": {
           "type": "nominal",
           "field": "Publisher"
          },
          "x": {
           "type": "nominal",
           "field": "Genre",
           "sort": [
            "Action",
            "Sports",
            "Shooter",
            "Platform",
            "Misc",
            "Racing",
            "Role-Playing",
            "Fighting",
            "Simulation",
            "Puzzle",
            "Adventure",
            "Strategy"
           ],
           "title": null
          },
          "y": {
           "type": "quantitative",
           "field": "Sales",
           "stack": null,
           "title": "Sales (in millions)"
          }
         }
        },
        {
         "data": {
          "url": "http://localhost:16278/b035452ab8734b3eecf23e3f07046398.json"
         },
         "mark": {
          "type": "text",
          "align": "left",
          "dx": 10
         },
         "encoding": {
          "text": {
           "type": "nominal",
           "field": "Publisher"
          },
          "x": {
           "type": "nominal",
           "field": "Genre",
           "sort": [
            "Action",
            "Sports",
            "Shooter",
            "Platform",
            "Misc",
            "Racing",
            "Role-Playing",
            "Fighting",
            "Simulation",
            "Puzzle",
            "Adventure",
            "Strategy"
           ]
          },
          "y": {
           "type": "quantitative",
           "field": "Sales"
          }
         }
        }
       ],
       "$schema": "https://vega.github.io/schema/vega-lite/v4.8.1.json"
      },
      "text/plain": [
       "<VegaLite 4 object>\n",
       "\n",
       "If you see this message, it means the renderer has not been properly enabled\n",
       "for the frontend that you are using. For more information, see\n",
       "https://altair-viz.github.io/user_guide/troubleshooting.html\n"
      ]
     },
     "metadata": {},
     "execution_count": 108
    }
   ],
   "source": [
    "sales_data_publisher = sales_data.groupby([\"Publisher\",\"Year\",\"Genre\",\"Region\"]).sum().reset_index()[[\"Publisher\",\"Year\",\"Genre\",\"Region\",\"Sales\"]]\n",
    "max_year = 2020\n",
    "region_filter = \"NA_Sales\"\n",
    "\n",
    "def test(region_filter,max_year=2020):\n",
    "    sorted_genre = list(sales_data[(sales_data.Region==region_filter) & (sales_data.Year <= max_year)].groupby(\"Genre\").sum().sort_values(\"Sales\",ascending=False).index)   \n",
    "    filtered_set = sales_data_publisher[sales_data_publisher.Year <= max_year].groupby([\"Publisher\",\"Genre\",\"Region\"]).sum().reset_index()[[\"Publisher\",\"Genre\",\"Region\",\"Sales\"]]\n",
    "\n",
    "    chart=alt.Chart(filtered_set[filtered_set.Region==region_filter]).mark_circle(size=50).encode(\n",
    "        alt.X(\"Genre\",sort=sorted_genre,title=None),\n",
    "        alt.Y(\"Sales:Q\",stack=None, title=\"Sales (in millions)\"),\n",
    "        alt.Color(\"Genre\",scale=alt.Scale(scheme='category20'),legend=None),\n",
    "        alt.Tooltip(\"Publisher\"))\n",
    "    chart = chart + alt.Chart(filtered_set[filtered_set.Region==region_filter].sort_values(\"Sales\",ascending=False).iloc[:5,]).mark_text(align = \"left\", dx=10).encode(\n",
    "        alt.X(\"Genre\",sort=sorted_genre),\n",
    "        alt.Y(\"Sales:Q\"),\n",
    "        text=\"Publisher\")\n",
    "    return chart\n",
    "x = test(region_filter,max_year)\n",
    "x"
   ]
  },
  {
   "source": [
    "sales_data_publisher = sales_data.groupby([\"Publisher\",\"Year\",\"Genre\",\"Region\"]).sum().reset_index()[[\"Publisher\",\"Year\",\"Genre\",\"Region\",\"Sales\"]]\n",
    "sales_data_publisher"
   ],
   "cell_type": "code",
   "metadata": {},
   "execution_count": 99,
   "outputs": [
    {
     "output_type": "execute_result",
     "data": {
      "text/plain": [
       "             Publisher  Year      Genre       Region  Sales\n",
       "0      10TACLE Studios  2006  Adventure     EU_Sales   0.01\n",
       "1      10TACLE Studios  2006  Adventure     JP_Sales   0.00\n",
       "2      10TACLE Studios  2006  Adventure     NA_Sales   0.01\n",
       "3      10TACLE Studios  2006  Adventure  Other_Sales   0.00\n",
       "4      10TACLE Studios  2007     Puzzle     EU_Sales   0.03\n",
       "...                ...   ...        ...          ...    ...\n",
       "23663     responDESIGN  2004     Sports  Other_Sales   0.00\n",
       "23664     responDESIGN  2005     Sports     EU_Sales   0.02\n",
       "23665     responDESIGN  2005     Sports     JP_Sales   0.00\n",
       "23666     responDESIGN  2005     Sports     NA_Sales   0.02\n",
       "23667     responDESIGN  2005     Sports  Other_Sales   0.01\n",
       "\n",
       "[23668 rows x 5 columns]"
      ],
      "text/html": "<div>\n<style scoped>\n    .dataframe tbody tr th:only-of-type {\n        vertical-align: middle;\n    }\n\n    .dataframe tbody tr th {\n        vertical-align: top;\n    }\n\n    .dataframe thead th {\n        text-align: right;\n    }\n</style>\n<table border=\"1\" class=\"dataframe\">\n  <thead>\n    <tr style=\"text-align: right;\">\n      <th></th>\n      <th>Publisher</th>\n      <th>Year</th>\n      <th>Genre</th>\n      <th>Region</th>\n      <th>Sales</th>\n    </tr>\n  </thead>\n  <tbody>\n    <tr>\n      <th>0</th>\n      <td>10TACLE Studios</td>\n      <td>2006</td>\n      <td>Adventure</td>\n      <td>EU_Sales</td>\n      <td>0.01</td>\n    </tr>\n    <tr>\n      <th>1</th>\n      <td>10TACLE Studios</td>\n      <td>2006</td>\n      <td>Adventure</td>\n      <td>JP_Sales</td>\n      <td>0.00</td>\n    </tr>\n    <tr>\n      <th>2</th>\n      <td>10TACLE Studios</td>\n      <td>2006</td>\n      <td>Adventure</td>\n      <td>NA_Sales</td>\n      <td>0.01</td>\n    </tr>\n    <tr>\n      <th>3</th>\n      <td>10TACLE Studios</td>\n      <td>2006</td>\n      <td>Adventure</td>\n      <td>Other_Sales</td>\n      <td>0.00</td>\n    </tr>\n    <tr>\n      <th>4</th>\n      <td>10TACLE Studios</td>\n      <td>2007</td>\n      <td>Puzzle</td>\n      <td>EU_Sales</td>\n      <td>0.03</td>\n    </tr>\n    <tr>\n      <th>...</th>\n      <td>...</td>\n      <td>...</td>\n      <td>...</td>\n      <td>...</td>\n      <td>...</td>\n    </tr>\n    <tr>\n      <th>23663</th>\n      <td>responDESIGN</td>\n      <td>2004</td>\n      <td>Sports</td>\n      <td>Other_Sales</td>\n      <td>0.00</td>\n    </tr>\n    <tr>\n      <th>23664</th>\n      <td>responDESIGN</td>\n      <td>2005</td>\n      <td>Sports</td>\n      <td>EU_Sales</td>\n      <td>0.02</td>\n    </tr>\n    <tr>\n      <th>23665</th>\n      <td>responDESIGN</td>\n      <td>2005</td>\n      <td>Sports</td>\n      <td>JP_Sales</td>\n      <td>0.00</td>\n    </tr>\n    <tr>\n      <th>23666</th>\n      <td>responDESIGN</td>\n      <td>2005</td>\n      <td>Sports</td>\n      <td>NA_Sales</td>\n      <td>0.02</td>\n    </tr>\n    <tr>\n      <th>23667</th>\n      <td>responDESIGN</td>\n      <td>2005</td>\n      <td>Sports</td>\n      <td>Other_Sales</td>\n      <td>0.01</td>\n    </tr>\n  </tbody>\n</table>\n<p>23668 rows × 5 columns</p>\n</div>"
     },
     "metadata": {},
     "execution_count": 99
    }
   ]
  },
  {
   "cell_type": "code",
   "execution_count": 109,
   "metadata": {},
   "outputs": [
    {
     "output_type": "execute_result",
     "data": {
      "text/plain": [
       "                               Name         Genre       Region  Sales\n",
       "0                       '98 Koshien        Sports     EU_Sales   0.10\n",
       "1                       '98 Koshien        Sports     JP_Sales   0.12\n",
       "2                       '98 Koshien        Sports     NA_Sales   0.15\n",
       "3                       '98 Koshien        Sports  Other_Sales   0.03\n",
       "4        .hack//G.U. Vol.1//Rebirth  Role-Playing     EU_Sales   0.00\n",
       "...                             ...           ...          ...    ...\n",
       "45451  uDraw Studio: Instant Artist          Misc  Other_Sales   0.02\n",
       "45452  ¡Shin Chan Flipa en colores!      Platform     EU_Sales   0.00\n",
       "45453  ¡Shin Chan Flipa en colores!      Platform     JP_Sales   0.14\n",
       "45454  ¡Shin Chan Flipa en colores!      Platform     NA_Sales   0.00\n",
       "45455  ¡Shin Chan Flipa en colores!      Platform  Other_Sales   0.00\n",
       "\n",
       "[45456 rows x 4 columns]"
      ],
      "text/html": "<div>\n<style scoped>\n    .dataframe tbody tr th:only-of-type {\n        vertical-align: middle;\n    }\n\n    .dataframe tbody tr th {\n        vertical-align: top;\n    }\n\n    .dataframe thead th {\n        text-align: right;\n    }\n</style>\n<table border=\"1\" class=\"dataframe\">\n  <thead>\n    <tr style=\"text-align: right;\">\n      <th></th>\n      <th>Name</th>\n      <th>Genre</th>\n      <th>Region</th>\n      <th>Sales</th>\n    </tr>\n  </thead>\n  <tbody>\n    <tr>\n      <th>0</th>\n      <td>'98 Koshien</td>\n      <td>Sports</td>\n      <td>EU_Sales</td>\n      <td>0.10</td>\n    </tr>\n    <tr>\n      <th>1</th>\n      <td>'98 Koshien</td>\n      <td>Sports</td>\n      <td>JP_Sales</td>\n      <td>0.12</td>\n    </tr>\n    <tr>\n      <th>2</th>\n      <td>'98 Koshien</td>\n      <td>Sports</td>\n      <td>NA_Sales</td>\n      <td>0.15</td>\n    </tr>\n    <tr>\n      <th>3</th>\n      <td>'98 Koshien</td>\n      <td>Sports</td>\n      <td>Other_Sales</td>\n      <td>0.03</td>\n    </tr>\n    <tr>\n      <th>4</th>\n      <td>.hack//G.U. Vol.1//Rebirth</td>\n      <td>Role-Playing</td>\n      <td>EU_Sales</td>\n      <td>0.00</td>\n    </tr>\n    <tr>\n      <th>...</th>\n      <td>...</td>\n      <td>...</td>\n      <td>...</td>\n      <td>...</td>\n    </tr>\n    <tr>\n      <th>45451</th>\n      <td>uDraw Studio: Instant Artist</td>\n      <td>Misc</td>\n      <td>Other_Sales</td>\n      <td>0.02</td>\n    </tr>\n    <tr>\n      <th>45452</th>\n      <td>¡Shin Chan Flipa en colores!</td>\n      <td>Platform</td>\n      <td>EU_Sales</td>\n      <td>0.00</td>\n    </tr>\n    <tr>\n      <th>45453</th>\n      <td>¡Shin Chan Flipa en colores!</td>\n      <td>Platform</td>\n      <td>JP_Sales</td>\n      <td>0.14</td>\n    </tr>\n    <tr>\n      <th>45454</th>\n      <td>¡Shin Chan Flipa en colores!</td>\n      <td>Platform</td>\n      <td>NA_Sales</td>\n      <td>0.00</td>\n    </tr>\n    <tr>\n      <th>45455</th>\n      <td>¡Shin Chan Flipa en colores!</td>\n      <td>Platform</td>\n      <td>Other_Sales</td>\n      <td>0.00</td>\n    </tr>\n  </tbody>\n</table>\n<p>45456 rows × 4 columns</p>\n</div>"
     },
     "metadata": {},
     "execution_count": 109
    }
   ],
   "source": [
    "filtered_set = sales_data[sales_data.Year <= max_year].groupby([\"Name\",\"Genre\",\"Region\"]).sum().reset_index()[[\"Name\",\"Genre\",\"Region\",\"Sales\"]]\n",
    "filtered_set"
   ]
  },
  {
   "cell_type": "code",
   "execution_count": null,
   "metadata": {},
   "outputs": [],
   "source": []
  }
 ],
 "metadata": {
  "kernelspec": {
   "display_name": "Python 3",
   "language": "python",
   "name": "python3"
  },
  "language_info": {
   "codemirror_mode": {
    "name": "ipython",
    "version": 3
   },
   "file_extension": ".py",
   "mimetype": "text/x-python",
   "name": "python",
   "nbconvert_exporter": "python",
   "pygments_lexer": "ipython3",
   "version": "3.8.3-final"
  }
 },
 "nbformat": 4,
 "nbformat_minor": 4
}